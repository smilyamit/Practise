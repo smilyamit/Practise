{
 "cells": [
  {
   "cell_type": "markdown",
   "metadata": {},
   "source": [
    "## Problem Statement"
   ]
  },
  {
   "cell_type": "markdown",
   "metadata": {},
   "source": [
    "Q.1 Write a Python Program to implement your own myreduce() function which works exactly like\n",
    "Python's built-in function reduce()\n"
   ]
  },
  {
   "cell_type": "code",
   "execution_count": 9,
   "metadata": {},
   "outputs": [
    {
     "name": "stdout",
     "output_type": "stream",
     "text": [
      "customized my_reduce is:20\n"
     ]
    }
   ],
   "source": [
    "def my_reduce(fun, my_list):\n",
    "  result = my_list[0]\n",
    "\n",
    "  for i in my_list[1:]:\n",
    "    result = fun(result, i)\n",
    "\n",
    "  return result\n",
    "\n",
    "def fun(a,b):\n",
    "   return a+b\n",
    "\n",
    "print('customized my_reduce is:'+ str(my_reduce(fun, [2,4,6,8])))\n"
   ]
  },
  {
   "cell_type": "markdown",
   "metadata": {},
   "source": [
    "Q.2 Write a Python program to implement your own myfilter() function which works exactly like\n",
    "Python's built-in function filter()"
   ]
  },
  {
   "cell_type": "code",
   "execution_count": 10,
   "metadata": {},
   "outputs": [
    {
     "name": "stdout",
     "output_type": "stream",
     "text": [
      "customized my_filter is:[2, 8, 10]\n"
     ]
    }
   ],
   "source": [
    "def my_filter(fun, my_list):\n",
    "  result = []\n",
    "\n",
    "  for i in my_list:\n",
    "    if fun(i):\n",
    "      result.append(i)\n",
    "\n",
    "  return result\n",
    "\n",
    "def fun(a):\n",
    "  if a%2 ==0:\n",
    "    return a\n",
    "  else:\n",
    "    return None\n",
    "\n",
    "print('customized my_filter is:'+ str(my_filter(fun, [2,3,5,8,10,11])))"
   ]
  },
  {
   "cell_type": "markdown",
   "metadata": {},
   "source": [
    "Q.3 Implement List comprehensions to produce the following lists.\n",
    "   Write List comprehensions to produce the following Lists\n",
    "   \n",
    "    ['A', 'C', 'A', 'D', 'G', 'I', ’L’, ‘ D’]\n",
    "   \n",
    "    ['x', 'xx', 'xxx', 'xxxx', 'y', 'yy', 'yyy', 'yyyy', 'z', 'zz', 'zzz', 'zzzz']\n",
    "\n",
    "    ['x', 'y', 'z', 'xx', 'yy', 'zz', 'xx', 'yy', 'zz', 'xxxx', 'yyyy', 'zzzz']\n",
    "    \n",
    "    [[2], [3], [4], [3], [4], [5], [4], [5], [6]]\n",
    "\n",
    "    [[2, 3, 4, 5], [3, 4, 5, 6], [4, 5, 6, 7], [5, 6, 7, 8]]\n",
    "\n",
    "    [(1, 1), (2, 1), (3, 1), (1, 2), (2, 2), (3, 2), (1, 3), (2, 3), (3, 3)]"
   ]
  },
  {
   "cell_type": "code",
   "execution_count": 3,
   "metadata": {},
   "outputs": [
    {
     "name": "stdout",
     "output_type": "stream",
     "text": [
      "ACADGILD = ['A', 'C', 'A', 'D', 'G', 'I', 'L', 'D']\n",
      "['x','y','z', ] = ['x', 'xx', 'xxx', 'xxxx', 'y', 'yy', 'yyy', 'yyyy', 'z', 'zz', 'zzz', 'zzzz']\n",
      "['x','y','z',] = ['x', 'y', 'z', 'xx', 'yy', 'zz', 'xxx', 'yyy', 'zzz', 'xxxx', 'yyyy', 'zzzz']\n",
      "result_1 = [[2], [3], [4], [3], [4], [5], [4], [5], [6]]\n",
      "result_1 = [[2, 3, 4, 5], [3, 4, 5, 6], [4, 5, 6, 7], [5, 6, 7, 8]]\n",
      "[1,2,3] =[(1, 1), (2, 1), (3, 1), (1, 2), (2, 2), (3, 2), (1, 3), (2, 3), (3, 3)]\n"
     ]
    }
   ],
   "source": [
    "word = \"ACADGILD\"\n",
    "alphabet = []\n",
    "for i in word:\n",
    "  alphabet.append(i)\n",
    "print(\"ACADGILD =\",alphabet)\n",
    "\n",
    "word_s = 'xyz'\n",
    "a = []\n",
    "for i in word_s:\n",
    "  a.append(i)\n",
    "\n",
    "######\n",
    "list_1 = ['x','y','z']\n",
    "result = [ item*num for item in list_1 for num in range(1,5)  ]\n",
    "print(\"['x','y','z', ] = {}\".format(result))\n",
    "\n",
    "###\n",
    "list_1 = ['x','y','z']\n",
    "result = [ num*item for num in range(1,5)for item in list_1]\n",
    "print(\"['x','y','z',] = {}\".format(result))\n",
    "\n",
    "#####\n",
    "a_list = [2,3,4]\n",
    "result_1 = [[num+item] for item in a_list for num in range(0,3)] \n",
    "print(\"result_1 = {}\".format(result_1))\n",
    "\n",
    "###\n",
    "a_list = [2,3,4,5]\n",
    "result_1 = [[item+num for item in a_list] for num in range(0,4)] \n",
    "print(\"result_1 = {}\".format(result_1))\n",
    "\n",
    "###\n",
    "list_2=[1,2,3]\n",
    "result = [ (b,a) for a in list_2 for b in list_2]\n",
    "print(\"[1,2,3] =\" +  str(result))\n"
   ]
  },
  {
   "cell_type": "markdown",
   "metadata": {},
   "source": [
    "Q.4 Implement a function longestWord() that takes a list of words and returns the longest one."
   ]
  },
  {
   "cell_type": "code",
   "execution_count": 5,
   "metadata": {},
   "outputs": [
    {
     "name": "stdout",
     "output_type": "stream",
     "text": [
      "ghijkl\n"
     ]
    }
   ],
   "source": [
    "def larg_word(word_list):\n",
    "  word_len = []\n",
    "  for i in word_list:\n",
    "    word_len.append((len(i),i))\n",
    "  word_len.sort()\n",
    "  return word_len[-1][1]\n",
    "\n",
    "print(larg_word(['abc', 'bcde','ghijkl']))"
   ]
  },
  {
   "cell_type": "markdown",
   "metadata": {},
   "source": [
    "Q.5 Write a Python Program(with class concepts) to find the area of the triangle using the below\n",
    "formula.\n",
    "\n",
    "area = (s*(s-a)*(s-b)*(s-c)) ** 0.5\n",
    "\n",
    "Function to take the length of the sides of triangle from user should be defined in the parent\n",
    "class and function to calculate the area should be defined in subclass."
   ]
  },
  {
   "cell_type": "code",
   "execution_count": 8,
   "metadata": {},
   "outputs": [
    {
     "name": "stdout",
     "output_type": "stream",
     "text": [
      "enter the 1st side: 3\n",
      "enter the 2nd side: 4\n",
      "enter the 3rd side: 5\n",
      "area of triangle:  6.0\n"
     ]
    }
   ],
   "source": [
    "class triangle:\n",
    "  def __init__(self):\n",
    "    self.a2 =int(input('enter the 1st side: '))\n",
    "    self.b2 =int(input('enter the 2nd side: '))\n",
    "    self.c2 =int(input('enter the 3rd side: '))  \n",
    "\n",
    "class area(triangle):\n",
    "  def __init__(self):\n",
    "    super().__init__()\n",
    "  def find_a(self):\n",
    "    s = (self.a2 +self.b2 +self.c2)/2\n",
    "    return (s*(s-self.a2)*(s-self.b2)*(s-self.c2))**0.5\n",
    "\n",
    "   \n",
    "\n",
    "p = area()\n",
    "print('area of triangle: ', p.find_a())"
   ]
  },
  {
   "cell_type": "markdown",
   "metadata": {},
   "source": [
    "Q.6 Write a function filter_long_words() that takes a list of words and an integer n and returns the list\n",
    "of words that are longer than n."
   ]
  },
  {
   "cell_type": "code",
   "execution_count": 10,
   "metadata": {},
   "outputs": [
    {
     "name": "stdout",
     "output_type": "stream",
     "text": [
      "Please input the list of words: aa bbb ccccc defgh\n",
      "min length of word to keep: 3\n",
      " words longer than 3 are ccccc,defgh: \n"
     ]
    }
   ],
   "source": [
    "def longvar(string, num):\n",
    "  return [word for word in string if len(word) > num]\n",
    "\n",
    "def main():\n",
    "  string = input(\"Please input the list of words: \").split()\n",
    "  num = int(input('min length of word to keep: '))\n",
    "  print(\" words longer than {} are {}: \".format(num,','.join(longvar(string,num))))\n",
    "\n",
    "main()"
   ]
  },
  {
   "cell_type": "markdown",
   "metadata": {},
   "source": [
    "Q.7 Write a Python program using function concept that maps list of words into a list of integers\n",
    "representing the lengths of the corresponding words.\n",
    "    \n",
    "    Hint: If a list [ ab,cde,erty] is passed on to the python function output should come as [2,3,4]\n",
    "    Here 2,3 and 4 are the lengths of the words in the list."
   ]
  },
  {
   "cell_type": "code",
   "execution_count": 12,
   "metadata": {},
   "outputs": [
    {
     "name": "stdout",
     "output_type": "stream",
     "text": [
      "enter the value with spaces: aa bbbb cccccc\n",
      "Given words are:  ['aa', 'bbbb', 'cccccc']\n",
      "Corresponding length of each word are:  [2, 4, 6]\n"
     ]
    }
   ],
   "source": [
    "list_1 = (input('enter the value with spaces: ')).split()\n",
    "print(\"Given words are: \",list_1)\n",
    "\n",
    "def length():\n",
    "  a = []\n",
    "  for i in list_1:\n",
    "    if i:\n",
    "      a.append(len(i))\n",
    "  return a\n",
    "\n",
    "print('Corresponding length of each word are: ',length())"
   ]
  },
  {
   "cell_type": "markdown",
   "metadata": {},
   "source": [
    "Q.8 Write a Python function which takes a character (i.e. a string of length 1) and returns True if it is\n",
    "a vowel, False otherwise."
   ]
  },
  {
   "cell_type": "code",
   "execution_count": 13,
   "metadata": {},
   "outputs": [
    {
     "name": "stdout",
     "output_type": "stream",
     "text": [
      "False\n",
      "True\n",
      "True\n"
     ]
    }
   ],
   "source": [
    "def is_vowel(char):\n",
    "    vowels = ('a', 'e', 'i', 'o', 'u')\n",
    "    if char not in vowels:\n",
    "        return False\n",
    "    return True\n",
    "\n",
    "\n",
    "print(is_vowel('c'))\n",
    "print(is_vowel('a'))\n",
    "print(is_vowel('i'))\n"
   ]
  },
  {
   "cell_type": "markdown",
   "metadata": {},
   "source": [
    "## Great job!"
   ]
  }
 ],
 "metadata": {
  "kernelspec": {
   "display_name": "Python 3",
   "language": "python",
   "name": "python3"
  },
  "language_info": {
   "codemirror_mode": {
    "name": "ipython",
    "version": 3
   },
   "file_extension": ".py",
   "mimetype": "text/x-python",
   "name": "python",
   "nbconvert_exporter": "python",
   "pygments_lexer": "ipython3",
   "version": "3.7.6"
  }
 },
 "nbformat": 4,
 "nbformat_minor": 2
}
